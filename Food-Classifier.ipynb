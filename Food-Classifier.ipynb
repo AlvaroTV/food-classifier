{
 "cells": [
  {
   "cell_type": "markdown",
   "id": "bb7691cf",
   "metadata": {},
   "source": [
    "# Imports"
   ]
  },
  {
   "cell_type": "code",
   "execution_count": null,
   "id": "9727752f",
   "metadata": {},
   "outputs": [],
   "source": [
    "import torch\n",
    "import sklearn\n",
    "import torch.nn as nn\n",
    "import numpy as np\n",
    "import torch.nn.functional as F\n",
    "from sklearn.datasets import make_moons\n",
    "from sklearn.model_selection import train_test_split\n",
    "import matplotlib.pyplot as plt\n",
    "\n",
    "# Computer vision libraries\n",
    "import torchvision\n",
    "from torchvision import datasets\n",
    "from torchvision.transforms import v2\n",
    "#from torchvision import transforms as T\n",
    "\n",
    "\n",
    "from torch.utils.data import DataLoader\n",
    "from torch.utils.data import Dataset\n",
    "from torch.utils.data import random_split\n",
    "from torch.utils.data import ConcatDataset\n",
    "\n",
    "# Directory libraries\n",
    "import pathlib\n",
    "import os\n",
    "import shutil\n",
    "\n",
    "# Extras\n",
    "import random\n",
    "from collections import defaultdict\n",
    "from PIL import Image\n",
    "\n",
    "# Jupyter Themes\n",
    "from jupyterthemes import jtplot\n",
    "jtplot.style(theme='gruvboxd')"
   ]
  },
  {
   "cell_type": "code",
   "execution_count": null,
   "id": "3054a51f",
   "metadata": {},
   "outputs": [],
   "source": [
    "device = 'cuda' if torch.cuda.is_available else 'cpu'\n",
    "device"
   ]
  },
  {
   "cell_type": "markdown",
   "id": "31781c94",
   "metadata": {},
   "source": [
    "# Download data"
   ]
  },
  {
   "cell_type": "code",
   "execution_count": null,
   "id": "b0d86dd3",
   "metadata": {},
   "outputs": [],
   "source": [
    "data_path = r'C:\\Users\\alvar\\Documentos\\Jupyter-Projects\\FreeCode\\data'"
   ]
  },
  {
   "cell_type": "code",
   "execution_count": null,
   "id": "8e10bb0f",
   "metadata": {},
   "outputs": [],
   "source": [
    "# Get training data\n",
    "train_data = datasets.Food101(root=data_path,\n",
    "                              split=\"train\",                              \n",
    "                              transform=v2.ToImage(),\n",
    "                              download=True)\n",
    "\n",
    "# Get testing data\n",
    "test_data = datasets.Food101(root=data_path,\n",
    "                             split=\"test\",                             \n",
    "                             transform=v2.ToImage(),\n",
    "                             download=True)"
   ]
  },
  {
   "cell_type": "code",
   "execution_count": null,
   "id": "2268932f",
   "metadata": {},
   "outputs": [],
   "source": [
    "train_data, test_data"
   ]
  },
  {
   "cell_type": "code",
   "execution_count": null,
   "id": "f269083d",
   "metadata": {},
   "outputs": [],
   "source": [
    "class_names = train_data.classes\n",
    "type(train_data), len(class_names)"
   ]
  },
  {
   "cell_type": "code",
   "execution_count": null,
   "id": "591f50b0",
   "metadata": {},
   "outputs": [],
   "source": [
    "# Assuming your list is named 'my_list'\n",
    "#my_list = [str(i) for i in range(101)]  # Convert elements to strings\n",
    "\n",
    "# Number of rows and columns in the grid\n",
    "num_rows = 21\n",
    "num_cols = 5\n",
    "\n",
    "# Iterate through the list and print in a grid format\n",
    "for i in range(num_rows):\n",
    "    for j in range(num_cols):\n",
    "        index = i * num_cols + j\n",
    "        if index < len(class_names):\n",
    "            element = class_names[index]            \n",
    "            print(f'| {index} {element:<25} ', end='')  # Adjust the formatting as needed\n",
    "    print(\"\\n\\n\") # Move to the next line after printing each row"
   ]
  },
  {
   "cell_type": "code",
   "execution_count": null,
   "id": "6dfbcee8",
   "metadata": {},
   "outputs": [],
   "source": [
    "img, label = next(iter(train_data))"
   ]
  },
  {
   "cell_type": "code",
   "execution_count": null,
   "id": "22fe038d",
   "metadata": {},
   "outputs": [],
   "source": [
    "plt.imshow(img.permute(1, 2, 0))\n",
    "plt.title(class_names[label])\n",
    "plt.axis(False);\n",
    "print(img.shape)"
   ]
  },
  {
   "cell_type": "markdown",
   "id": "e6cd2cad",
   "metadata": {},
   "source": [
    "# Subset"
   ]
  },
  {
   "cell_type": "code",
   "execution_count": null,
   "id": "35a824bf",
   "metadata": {},
   "outputs": [],
   "source": [
    "# Create function to separate a random amount of data\n",
    "def get_subset(data_dir=data_path,               \n",
    "               data_splits=[\"train\", \"test\"], \n",
    "               target_classes=[\"pizza\", \"steak\", \"sushi\"],\n",
    "               amount=0.1):\n",
    "    '''\n",
    "    Function to separate a random amount of data. \n",
    "    Train - Each class contains 750 images, there are 101 different classes (750*101 = 75, 750) \n",
    "    Test - Each class contains 250 images, there are 101 different classes (250*101 = 25, 250) \n",
    "    So, the amount of data is calculated by each class pass throught `target_classes`.\n",
    "    The amount is calculated for each class and then each value is added, this results in the total \n",
    "    number of examples.\n",
    "    \n",
    "    Example:\n",
    "    If the amount is 0.1 (10%) and 5 classes are passed.\n",
    "    10% is calculated for each class.\n",
    "    Training data: 10% of 750 = 75, this is repeated 5 times (one time for each class)\n",
    "    Total number of examples for training data: (75+75+75+75+75) = 375\n",
    "    \n",
    "    Testing data: 10% of 250 = 25, this is repeated 5 times (one time for each class)\n",
    "    Total number of examples for testing data: (25+25+25+25+25) = 125\n",
    "    \n",
    "    For example, for each class it can return something like this, where each item represents the amount\n",
    "    of elements for each class.\n",
    "    [76, 79, 92, 53, 75] = 375\n",
    "    \n",
    "    Finally:\n",
    "    Total number of examples are selected within the data that belong to the target classes. Hence\n",
    "    the total elements for each class may vary, one class can have more elements than another and \n",
    "    vice versa.\n",
    "    \n",
    "    Returns: \n",
    "    This return a dictionary where the key indicates if it's training or testing data. For each\n",
    "    data (training, testing) a list is returned with the image path for each image.\n",
    "    '''\n",
    "    \n",
    "    label_splits = {}\n",
    "    image_path = f'{data_path}/food-101'\n",
    "    \n",
    "    # Get labels\n",
    "    for data_split in data_splits:\n",
    "        print(f\"[INFO] Creating image split for: {data_split}...\")\n",
    "        #label_path = data_dir / \"food-101\" / \"meta\" / f\"{data_split}.txt\"\n",
    "        \n",
    "        # Open the txt file that contains the name of each image        \n",
    "        label_path = f'{image_path}/meta/{data_split}.txt'\n",
    "        with open(label_path, \"r\") as f:\n",
    "            # Select the names that coincide with the target classes (list)\n",
    "            labels = [line.strip(\"\\n\") for line in f.readlines() if line.split(\"/\")[0] in target_classes] \n",
    "        \n",
    "        # Total of elements to select\n",
    "        number_to_sample = round(amount * len(labels))\n",
    "        print(f\"[INFO] Getting random subset of {number_to_sample} images for {data_split}...\")\n",
    "        # Get random subset of target classes image ID's (list with length equal to `number_to_sample`)\n",
    "        sampled_images = random.sample(labels, k=number_to_sample)\n",
    "        \n",
    "        # Apply full paths\n",
    "        # Create the path for each image        \n",
    "        image_paths = [f'{image_path}/images/{sample_image}.jpg' for sample_image in sampled_images]\n",
    "        \n",
    "        # Create a dictionary with the train and test data\n",
    "        label_splits[data_split] = image_paths\n",
    "    return label_splits"
   ]
  },
  {
   "cell_type": "code",
   "execution_count": null,
   "id": "a90ebea1",
   "metadata": {},
   "outputs": [],
   "source": [
    "def print_classes_amount(dictionary_classes, data_split):\n",
    "    print(f'***** {data_split} data *****')\n",
    "    total_elements = 0\n",
    "    for item_class in dictionary_classes:        \n",
    "        len_dict = len(dictionary_classes[item_class])\n",
    "        print(f'{item_class}: {len_dict}')\n",
    "        total_elements += len_dict    \n",
    "    print(f'Total elements: {total_elements}' + '\\n')"
   ]
  },
  {
   "cell_type": "code",
   "execution_count": null,
   "id": "f7fc00a9",
   "metadata": {},
   "outputs": [],
   "source": [
    "def get_amount_per_class(dict_data):\n",
    "    '''\n",
    "    Args:\n",
    "    dict_data (dict): Dictionary where the key indicates if it's training or testing data. For each\n",
    "    data (training, testing) a list is returned with the image path for each image.\n",
    "    \n",
    "    Return a dictionary where keys are training and testing data, each key contain another dictionary, this\n",
    "    dictionary contains all item separated by class.\n",
    "    For example:\n",
    "    dict_split.keys() ---> ['train', 'test']\n",
    "    dict_split['train'].keys() ---> ['pizza', 'tacos', 'donuts']\n",
    "    dict_split['train']['pizza'] ---> ['./food_path/pizza/12345.jpg', './food_path/pizza/12346.jpg', ...]\n",
    "    dict_split['train']['tacos'] ---> ['./food_path/tacos/12355.jpg', './food_path/tacos/12356.jpg', ...]    \n",
    "    '''\n",
    "    data_splits = list(dict_data.keys())\n",
    "    # Create a defaultdict to store lists for each type\n",
    "    # It creates an empty list, hence we can use `append` to add each element\n",
    "    lists_dict = defaultdict(list)\n",
    "    \n",
    "    dict_split = {}    \n",
    "        \n",
    "    for data_split in data_splits:        \n",
    "        for item in dict_data[data_split]:\n",
    "            # Select the second part of the split (e.g. 'pizza/2572488.jpg')\n",
    "            _, item_type = item.split('data/food-101/images/')\n",
    "            # Select the first part of the split that contains the food type (e.g. pizza/)\n",
    "            image_type, _ = item_type.split('/')\n",
    "            # Append the item to the corresponding list in the dictionary\n",
    "            lists_dict[image_type].append(item) \n",
    "        \n",
    "        # Add the dictionary to each type of data\n",
    "        dict_split[data_split] = lists_dict                    \n",
    "        \n",
    "        # Print the amount of each class\n",
    "        print_classes_amount(lists_dict, data_split)\n",
    "        \n",
    "        # Reset the dictionary\n",
    "        lists_dict = defaultdict(list)\n",
    "    return dict_split            "
   ]
  },
  {
   "cell_type": "code",
   "execution_count": null,
   "id": "39895699",
   "metadata": {},
   "outputs": [],
   "source": [
    "target_classes = ['tacos', 'ramen', 'pizza', 'guacamole', 'donuts']\n",
    "\n",
    "# Amount of data to get (e.g. 0.1 = random 10%, 0.2 = random 20%)\n",
    "# Amount of data for each class\n",
    "amount_to_get = 0.2"
   ]
  },
  {
   "cell_type": "code",
   "execution_count": null,
   "id": "fb4627c0",
   "metadata": {},
   "outputs": [],
   "source": [
    "dict_data = get_subset(target_classes=target_classes, amount=amount_to_get)\n",
    "len(dict_data['train']), len(dict_data['test'])"
   ]
  },
  {
   "cell_type": "code",
   "execution_count": null,
   "id": "0c0fd3db",
   "metadata": {},
   "outputs": [],
   "source": [
    "# Amount per class\n",
    "dict_per_class = get_amount_per_class(dict_data)"
   ]
  },
  {
   "cell_type": "markdown",
   "id": "9cb0673b",
   "metadata": {},
   "source": [
    "# Move training and testing images to dedicated folders"
   ]
  },
  {
   "cell_type": "code",
   "execution_count": null,
   "id": "308ce282",
   "metadata": {},
   "outputs": [],
   "source": [
    "def copy_images_to(destiny_path, dict_data, amount_data):\n",
    "    '''\n",
    "    Copy the images from the source path to the target directory path. The function creates all folder\n",
    "    that are necesary.\n",
    "    \n",
    "    Args:    \n",
    "    * destiny_path: Directory path where the images are going to be copied (if it doesn't exist, it will\n",
    "    be created).    \n",
    "    * dict_data: Dictionary that contains the path of each image. The firsts keys must be 'train' and\n",
    "    'test', then each element of 'train' or 'test' must be the class to which the image belongs and finally\n",
    "    each element of that is the directory path.\n",
    "    Example:\n",
    "        dict_data.keys() ---> ['train', 'test']\n",
    "        dict_data['train'].keys() ---> ['tacos', 'pizza', 'sushi', ...]\n",
    "        dict_data['train']['tacos'] ---> ['image_path/1234.jpg', 'image_path/1235.jpg', ...]\n",
    "    * amount_data: Amount of data obtained (it's just to name the destination folder).            \n",
    "    \n",
    "    Return:\n",
    "    Return the directory path where all images were copied.\n",
    "    '''    \n",
    "    \n",
    "    # Create the directory name\n",
    "    target_dir_name = '_'.join(dict_per_class['train'].keys())\n",
    "    \n",
    "    # Create target directory    \n",
    "    target_dir_path = f'{destiny_path}/{target_dir_name}_{str(int(amount_data * 100))}_percent'                \n",
    "    \n",
    "    if os.path.exists(target_dir_path):\n",
    "        print(f\"Folder: {target_dir_path[52:]} exists!\")\n",
    "    else:\n",
    "        os.makedirs(target_dir_path, exist_ok=True)\n",
    "        print(f'Directory created at: {target_dir_path[52:]}')\n",
    "    print()    \n",
    "    \n",
    "    for image_split in dict_data:\n",
    "        for img_class in dict_data[image_split]:\n",
    "            dest_dir = f'{target_dir_path}/{image_split}/{img_class}'\n",
    "            dest_folder_path = os.path.join(current_directory, dest_dir)                        \n",
    "            os.makedirs(dest_folder_path, exist_ok=True)        \n",
    "            for img_path in dict_per_class[image_split][img_class]:\n",
    "                shutil.copy2(img_path, dest_folder_path)            \n",
    "                print(f\"[INFO] Copying {img_path} to {dest_dir[52:]}...\")     \n",
    "    return target_dir_path"
   ]
  },
  {
   "cell_type": "code",
   "execution_count": null,
   "id": "fe346436",
   "metadata": {},
   "outputs": [],
   "source": [
    "current_directory = os.getcwd()\n",
    "prueba = 'data/food-101/'\n",
    "folder_path = os.path.join(current_directory, prueba)"
   ]
  },
  {
   "cell_type": "code",
   "execution_count": null,
   "id": "e766e0dd",
   "metadata": {},
   "outputs": [],
   "source": [
    "target_path = copy_images_to(folder_path, dict_per_class, amount_to_get)"
   ]
  },
  {
   "cell_type": "markdown",
   "id": "20ed7a51",
   "metadata": {},
   "source": [
    "# Becoming one with the data (data preparation and data exploration)"
   ]
  },
  {
   "cell_type": "code",
   "execution_count": null,
   "id": "9edbe8ee",
   "metadata": {},
   "outputs": [],
   "source": [
    "def walk_through_dir(dir_path):\n",
    "    '''\n",
    "    Walks through dir_path returning it's contents.\n",
    "    '''\n",
    "    \n",
    "    for dirpath, dirnames, filenames in os.walk(dir_path):\n",
    "        print(f'There are {len(dirnames)} directories and {len(filenames)} images in ./{dirpath[52:]}')"
   ]
  },
  {
   "cell_type": "code",
   "execution_count": null,
   "id": "1bf2f011",
   "metadata": {},
   "outputs": [],
   "source": [
    "walk_through_dir(target_path)"
   ]
  },
  {
   "cell_type": "code",
   "execution_count": null,
   "id": "da0e9c32",
   "metadata": {},
   "outputs": [],
   "source": [
    "# Setup train and testing data\n",
    "TRAIN_DIR = target_path + '/train'\n",
    "TEST_DIR = target_path + '/test'"
   ]
  },
  {
   "cell_type": "markdown",
   "id": "59b2678d",
   "metadata": {},
   "source": [
    "# Transforming data"
   ]
  },
  {
   "cell_type": "markdown",
   "id": "ac3e26f5",
   "metadata": {},
   "source": [
    "Before we can use our image data with Pytorch:  \n",
    "1.- Turn our target data into tensors (in our case, numerical representation of our images)  \n",
    "2.- Turn it into a `torch.util.data.Dataset` and subsequently a `torch.utils.data.DataLoader`, we'll call these `Dataset` and `DataLoader`."
   ]
  },
  {
   "cell_type": "code",
   "execution_count": null,
   "id": "2a8eb2a8",
   "metadata": {},
   "outputs": [],
   "source": [
    "# Write a transform for image\n",
    "data_transform = v2.Compose([\n",
    "    v2.ToImage(),\n",
    "    v2.ToDtype(torch.float32, scale=True),\n",
    "    v2.Resize(size=(256, 256)),\n",
    "    v2.RandomHorizontalFlip(p=0.5),\n",
    "    #v2.Normalize(mean=[0.485, 0.456, 0.406], std=[0.229, 0.224, 0.225])\n",
    "    v2.Normalize(mean=[0.5, 0.5, 0.5], std=[0.5, 0.5, 0.5])\n",
    "])\n",
    "\n",
    "# Transform for Image Augmentation\n",
    "data_transform_2 = v2.Compose([\n",
    "    v2.ToImage(),\n",
    "    v2.ToDtype(torch.float32, scale=True),\n",
    "    v2.Resize(size=(256, 256)),\n",
    "    v2.RandomVerticalFlip(0.5),\n",
    "    v2.RandomHorizontalFlip(),\n",
    "    v2.RandomRotation(10),\n",
    "    v2.RandomGrayscale(p=0.1),\n",
    "    v2.ColorJitter(brightness=0.1, contrast=0.1, saturation=0.1, hue=0.1),\n",
    "    v2.Normalize(mean=[0.5, 0.5, 0.5], std=[0.5, 0.5, 0.5])\n",
    "])"
   ]
  },
  {
   "cell_type": "code",
   "execution_count": null,
   "id": "3a7be222",
   "metadata": {},
   "outputs": [],
   "source": [
    "reverse_normalize = v2.Compose([    \n",
    "    v2.Normalize(mean=[-0.5 / 0.5, -0.5 / 0.5, -0.5 / 0.5], std=[1 / 0.5, 1 / 0.5, 1 / 0.5])    \n",
    "])"
   ]
  },
  {
   "cell_type": "code",
   "execution_count": null,
   "id": "4837b071",
   "metadata": {},
   "outputs": [],
   "source": [
    "a = data_transform(img)  \n",
    "plt.imshow(a.permute(1, 2, 0))"
   ]
  },
  {
   "cell_type": "code",
   "execution_count": null,
   "id": "cfcce9a1",
   "metadata": {},
   "outputs": [],
   "source": [
    "a_2 = reverse_normalize(a)\n",
    "plt.imshow(a_2.permute(1, 2, 0))"
   ]
  },
  {
   "cell_type": "markdown",
   "id": "202df49d",
   "metadata": {},
   "source": [
    "# Dataset"
   ]
  },
  {
   "cell_type": "code",
   "execution_count": null,
   "id": "7b743a16",
   "metadata": {},
   "outputs": [],
   "source": [
    "class Food_Dataset(Dataset):\n",
    "    def __init__(self, root_dir, transform=None):\n",
    "        self.root_dir = root_dir\n",
    "        self.transform = transform\n",
    "        # List all folders inside of train or test path. Each folder's name is the name of the class that\n",
    "        # contains\n",
    "        self.classes = sorted(os.listdir(root_dir))\n",
    "\n",
    "    def __len__(self):\n",
    "        total_samples = 0\n",
    "        for class_dir in self.classes:\n",
    "            # Join the path with the name of the folder, thus we can access all images of each class\n",
    "            class_path = os.path.join(self.root_dir, class_dir)\n",
    "            # Sum all elements inside of each folder\n",
    "            total_samples += len(os.listdir(class_path))\n",
    "        # Return the total of images (all classes)\n",
    "        return total_samples\n",
    "\n",
    "    def __getitem__(self, idx):\n",
    "        class_idx = 0\n",
    "        '''\n",
    "        If idx is greater than all elements in the folder of the first class means that the image is not\n",
    "        in the first folder (first class) so the idx is subtracted, thus we can know the original position\n",
    "        on the next folder.  \n",
    "        Example:\n",
    "        0_class: 10 elements\n",
    "        1_class: 5 elements\n",
    "        2_class: 30 elements\n",
    "        idx = 14\n",
    "        First check if idx is greater than all elements in the first folder.\n",
    "        14 >= 10   ---> True \n",
    "        So, update idx\n",
    "        idx = 14 - 10 = 4\n",
    "        Then, update the class_idx\n",
    "        class_idx = 0+1 = 1\n",
    "        Repeat the process, check if id is greater than all elements in the second folder.\n",
    "        4 >= 5   ---> False\n",
    "        That means the image is on the second folder and it's the fourth image in that folder.\n",
    "        *** With this we can find the image and get the class that it belongs. ***\n",
    "        '''\n",
    "        while idx >= len(os.listdir(os.path.join(self.root_dir, self.classes[class_idx]))):\n",
    "            idx -= len(os.listdir(os.path.join(self.root_dir, self.classes[class_idx])))\n",
    "            class_idx += 1\n",
    "                \n",
    "        class_dir = self.classes[class_idx]\n",
    "        class_path = os.path.join(self.root_dir, class_dir)\n",
    "        filenames = os.listdir(class_path)\n",
    "        img_name = filenames[idx]        \n",
    "        img_path = os.path.join(class_path, img_name)\n",
    "        image = Image.open(img_path)\n",
    "        \n",
    "        if self.transform:\n",
    "            image = self.transform(image)\n",
    "        else:\n",
    "            trans = v2.ToImage()\n",
    "            image = trans(image)\n",
    "        #image /= 255\n",
    "        \n",
    "        return image, class_idx"
   ]
  },
  {
   "cell_type": "code",
   "execution_count": null,
   "id": "6efe147a",
   "metadata": {},
   "outputs": [],
   "source": []
  },
  {
   "cell_type": "code",
   "execution_count": null,
   "id": "798a511a",
   "metadata": {},
   "outputs": [],
   "source": []
  },
  {
   "cell_type": "code",
   "execution_count": null,
   "id": "904b3596",
   "metadata": {},
   "outputs": [],
   "source": []
  },
  {
   "cell_type": "code",
   "execution_count": null,
   "id": "7c9adfd5",
   "metadata": {},
   "outputs": [],
   "source": []
  },
  {
   "cell_type": "code",
   "execution_count": null,
   "id": "ea75a6c2",
   "metadata": {},
   "outputs": [],
   "source": []
  },
  {
   "cell_type": "code",
   "execution_count": null,
   "id": "5f26a586",
   "metadata": {},
   "outputs": [],
   "source": []
  },
  {
   "cell_type": "code",
   "execution_count": null,
   "id": "51cd6996",
   "metadata": {},
   "outputs": [],
   "source": []
  },
  {
   "cell_type": "code",
   "execution_count": null,
   "id": "a82f1865",
   "metadata": {},
   "outputs": [],
   "source": []
  },
  {
   "cell_type": "code",
   "execution_count": null,
   "id": "725c8c15",
   "metadata": {},
   "outputs": [],
   "source": []
  },
  {
   "cell_type": "code",
   "execution_count": null,
   "id": "9151f7d9",
   "metadata": {},
   "outputs": [],
   "source": []
  },
  {
   "cell_type": "code",
   "execution_count": null,
   "id": "c9122b9a",
   "metadata": {},
   "outputs": [],
   "source": []
  },
  {
   "cell_type": "code",
   "execution_count": null,
   "id": "e0f56ed9",
   "metadata": {},
   "outputs": [],
   "source": []
  },
  {
   "cell_type": "code",
   "execution_count": null,
   "id": "9b19cbbd",
   "metadata": {},
   "outputs": [],
   "source": []
  }
 ],
 "metadata": {
  "kernelspec": {
   "display_name": "Python 3 (ipykernel)",
   "language": "python",
   "name": "python3"
  },
  "language_info": {
   "codemirror_mode": {
    "name": "ipython",
    "version": 3
   },
   "file_extension": ".py",
   "mimetype": "text/x-python",
   "name": "python",
   "nbconvert_exporter": "python",
   "pygments_lexer": "ipython3",
   "version": "3.10.9"
  }
 },
 "nbformat": 4,
 "nbformat_minor": 5
}
